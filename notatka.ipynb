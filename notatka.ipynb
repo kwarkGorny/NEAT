{
 "cells": [
  {
   "cell_type": "markdown",
   "metadata": {},
   "source": [
    "# NEAT"
   ]
  },
  {
   "cell_type": "markdown",
   "metadata": {},
   "source": [
    "Genom sieci składa się z nasępujących :\n",
    "+ Neuron\n",
    " + Typ\n",
    " + Funkcja aktywacji\n",
    "\n",
    "+ Synapsa\n",
    " + Neuron:Wejście\n",
    " + Neuron:Wyjście\n",
    " + Waga\n",
    " + Id innowacji\n",
    " + Czy włączona?\n",
    "\n",
    "Rodzaje mutacji:\n",
    "+ Dodanie neuronu\n",
    "+ Dodanie synapys\n",
    "+ Zmiana wagi\n",
    "+ Zmiana funkcji aktywacji\n",
    "\n",
    "Krzyżowanie:\n",
    "+ Id innowacji determinuje które geny się krzyżują\n",
    "\n",
    "Dobór do krzyżowania:\n",
    "+ Gatunkowanie - podział puli na subpopulacje (metoda w artykule mi się średnio podoba, można ją jakoś zmodyfikować) \n",
    " + fitness sharing - zapobieganie rozrastania się jednego z gatunków\n",
    "\n",
    "\n",
    "+ Metody losowania\n",
    " + Fitness proportionate selection\n",
    " + Reward-based selection\n",
    " + Stochastic universal sampling\n",
    " + Tournament selection\n"
   ]
  },
  {
   "cell_type": "code",
   "execution_count": null,
   "metadata": {},
   "outputs": [],
   "source": []
  }
 ],
 "metadata": {
  "kernelspec": {
   "display_name": "Python 3",
   "language": "python",
   "name": "python3"
  },
  "language_info": {
   "codemirror_mode": {
    "name": "ipython",
    "version": 3
   },
   "file_extension": ".py",
   "mimetype": "text/x-python",
   "name": "python",
   "nbconvert_exporter": "python",
   "pygments_lexer": "ipython3",
   "version": "3.6.1"
  }
 },
 "nbformat": 4,
 "nbformat_minor": 2
}
